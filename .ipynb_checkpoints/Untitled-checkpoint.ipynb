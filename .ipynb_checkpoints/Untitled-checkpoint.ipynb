{
 "cells": [
  {
   "cell_type": "code",
   "execution_count": 1,
   "id": "26be4df3-bbdb-47ee-82d7-20d0f5a92177",
   "metadata": {},
   "outputs": [
    {
     "name": "stdout",
     "output_type": "stream",
     "text": [
      "Please enter an integer greater than 0: \n"
     ]
    },
    {
     "name": "stdin",
     "output_type": "stream",
     "text": [
      " -3\n"
     ]
    },
    {
     "name": "stdout",
     "output_type": "stream",
     "text": [
      "Enter \"s\" to compute the sum, or \"p\" to compute the product: \n"
     ]
    },
    {
     "name": "stdin",
     "output_type": "stream",
     "text": [
      " s\n"
     ]
    },
    {
     "name": "stdout",
     "output_type": "stream",
     "text": [
      "The sum of the integers between 1 and -3 is 0.\n"
     ]
    }
   ],
   "source": [
    "OPTIONS = ['s', 'p']\n",
    "def invalid_number(number):\n",
    "    try:\n",
    "        number = int(number)\n",
    "        if number < 0: \n",
    "          return True\n",
    "    except ValueError:\n",
    "        return True\n",
    "def sum(number):\n",
    "    sum_numbers = 0\n",
    "    for item in range(1, number + 1):\n",
    "        sum_numbers += item\n",
    "    return (sum_numbers)\n",
    "def product(number):\n",
    "    product_number = 1\n",
    "    for item in range(1, number + 1):\n",
    "        product_number *= item\n",
    "    return (product_number)\n",
    "print('Please enter an integer greater than 0: ')\n",
    "number_value = input()\n",
    "print('Enter \"s\" to compute the sum, or \"p\" to compute the product: ')\n",
    "operation = input()\n",
    "product_value = product(int(number_value))\n",
    "sum_value = sum(int(number_value))\n",
    "while operation not in OPTIONS:\n",
    "    print('Please enter either \"s\" or \"p\":')\n",
    "    operation = input()\n",
    "if operation == 'p':\n",
    "    print(f'The product of the integers between 1 and {number_value} is {product_value}.')\n",
    "else:\n",
    "    print(f'The sum of the integers between 1 and {number_value} is {sum_value}.')\n"
   ]
  },
  {
   "cell_type": "code",
   "execution_count": 6,
   "id": "54765790-0abe-405d-a635-bb4ed1600667",
   "metadata": {},
   "outputs": [
    {
     "name": "stdout",
     "output_type": "stream",
     "text": [
      "-1\n",
      "0\n",
      "1\n",
      "2\n",
      "3\n"
     ]
    }
   ],
   "source": [
    "for number in range(-1, 4):\n",
    "    print(number)"
   ]
  },
  {
   "cell_type": "code",
   "execution_count": null,
   "id": "1c739e5a-6152-4e70-bca8-7ebff339bf16",
   "metadata": {},
   "outputs": [],
   "source": []
  },
  {
   "cell_type": "code",
   "execution_count": 8,
   "id": "a1c2b9f8-526a-48b6-a4f8-9e5f7455153c",
   "metadata": {},
   "outputs": [
    {
     "name": "stdout",
     "output_type": "stream",
     "text": [
      "True\n",
      "True\n"
     ]
    }
   ],
   "source": [
    "def invalid_number(number):\n",
    "    try:\n",
    "        number = int(number)\n",
    "        if number < 0: \n",
    "          return True\n",
    "    except ValueError:\n",
    "        return True\n",
    "number = 'a'\n",
    "print(invalid_number(number))\n",
    "print(invalid_number(-4))\n",
    "print(invalid_number(4.3))\n",
    "print(invalid_number(43))"
   ]
  },
  {
   "cell_type": "code",
   "execution_count": null,
   "id": "b8a2f44a-c6fa-41a7-aa5e-ae6bc74699ef",
   "metadata": {},
   "outputs": [],
   "source": []
  }
 ],
 "metadata": {
  "kernelspec": {
   "display_name": "Python 3 (ipykernel)",
   "language": "python",
   "name": "python3"
  },
  "language_info": {
   "codemirror_mode": {
    "name": "ipython",
    "version": 3
   },
   "file_extension": ".py",
   "mimetype": "text/x-python",
   "name": "python",
   "nbconvert_exporter": "python",
   "pygments_lexer": "ipython3",
   "version": "3.12.6"
  }
 },
 "nbformat": 4,
 "nbformat_minor": 5
}
