{
 "cells": [
  {
   "cell_type": "code",
   "execution_count": 1,
   "id": "1358e330-0f69-4fae-879e-788951c4a8c9",
   "metadata": {},
   "outputs": [
    {
     "ename": "NameError",
     "evalue": "name 'a' is not defined",
     "output_type": "error",
     "traceback": [
      "\u001b[0;31m---------------------------------------------------------------------------\u001b[0m",
      "\u001b[0;31mNameError\u001b[0m                                 Traceback (most recent call last)",
      "Cell \u001b[0;32mIn[1], line 5\u001b[0m\n\u001b[1;32m      3\u001b[0m         full_name \u001b[38;5;241m=\u001b[39m \u001b[38;5;124m\"\u001b[39m\u001b[38;5;124m \u001b[39m\u001b[38;5;124m\"\u001b[39m\u001b[38;5;241m.\u001b[39mjoin(item)\n\u001b[1;32m      4\u001b[0m         \u001b[38;5;28mprint\u001b[39m(full_name)\n\u001b[0;32m----> 5\u001b[0m maple \u001b[38;5;241m=\u001b[39m [\u001b[43ma\u001b[49m,c,b]\n\u001b[1;32m      6\u001b[0m greetings(maple)\n",
      "\u001b[0;31mNameError\u001b[0m: name 'a' is not defined"
     ]
    }
   ],
   "source": [
    "def greetings(my_list):\n",
    "    for item in my_list:\n",
    "        full_name = \" \".join(item)\n",
    "        print(full_name)\n",
    "maple = ['a','v', 'b']\n",
    "greetings(maple)\n"
   ]
  },
  {
   "cell_type": "code",
   "execution_count": null,
   "id": "50421b25-8cf0-4831-90ad-48aa34e7ae9e",
   "metadata": {},
   "outputs": [],
   "source": []
  }
 ],
 "metadata": {
  "kernelspec": {
   "display_name": "Python 3 (ipykernel)",
   "language": "python",
   "name": "python3"
  },
  "language_info": {
   "codemirror_mode": {
    "name": "ipython",
    "version": 3
   },
   "file_extension": ".py",
   "mimetype": "text/x-python",
   "name": "python",
   "nbconvert_exporter": "python",
   "pygments_lexer": "ipython3",
   "version": "3.12.6"
  }
 },
 "nbformat": 4,
 "nbformat_minor": 5
}
