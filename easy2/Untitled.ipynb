{
 "cells": [
  {
   "cell_type": "code",
   "execution_count": 3,
   "id": "1358e330-0f69-4fae-879e-788951c4a8c9",
   "metadata": {},
   "outputs": [
    {
     "name": "stdout",
     "output_type": "stream",
     "text": [
      "b\n"
     ]
    }
   ],
   "source": [
    "def greetings(my_list):\n",
    "    for item in my_list:\n",
    "        full_name = \" \".join(item)\n",
    "    print(full_name)\n",
    "maple = ['a','v', 'b']\n",
    "greetings(maple)\n"
   ]
  },
  {
   "cell_type": "code",
   "execution_count": null,
   "id": "50421b25-8cf0-4831-90ad-48aa34e7ae9e",
   "metadata": {},
   "outputs": [],
   "source": []
  }
 ],
 "metadata": {
  "kernelspec": {
   "display_name": "Python 3 (ipykernel)",
   "language": "python",
   "name": "python3"
  },
  "language_info": {
   "codemirror_mode": {
    "name": "ipython",
    "version": 3
   },
   "file_extension": ".py",
   "mimetype": "text/x-python",
   "name": "python",
   "nbconvert_exporter": "python",
   "pygments_lexer": "ipython3",
   "version": "3.12.6"
  }
 },
 "nbformat": 4,
 "nbformat_minor": 5
}
