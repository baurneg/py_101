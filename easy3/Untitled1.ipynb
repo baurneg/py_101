{
 "cells": [
  {
   "cell_type": "code",
   "execution_count": 12,
   "id": "37a92367-149e-4ae1-acea-8ffb646cbd5f",
   "metadata": {},
   "outputs": [
    {
     "name": "stdout",
     "output_type": "stream",
     "text": [
      "True\n",
      "True\n",
      "True\n",
      "True\n",
      "True\n",
      "True\n",
      "True\n",
      "True\n"
     ]
    }
   ],
   "source": [
    "# A double number is an even-length number whose left-side digits are exactly \n",
    "# the same as its right-side digits. For example, 44, 3333, 103103, and 7676 \n",
    "# are all double numbers, whereas 444, 334433, and 107 are not.\n",
    "\n",
    "# Write a function that returns the number provided as an argument multiplied \n",
    "# by two, unless the argument is a double number. If the argument is a double \n",
    "# number, return the double number as-is.\n",
    "\n",
    "# ExamplesCopy Code\n",
    "# print(twice(37) == 74)                  # True\n",
    "# print(twice(44) == 44)                  # True\n",
    "# print(twice(334433) == 668866)          # True\n",
    "# print(twice(444) == 888)                # True\n",
    "# print(twice(107) == 214)                # True\n",
    "# print(twice(103103) == 103103)          # True\n",
    "# print(twice(3333) == 3333)              # True\n",
    "# print(twice(7676) == 7676)              # True\n",
    "\n",
    "def twice(number):\n",
    "    number_string = str(number)    \n",
    "    half_string = int(len(number_string) / 2)    \n",
    "    if len(number_string) % 2 != 0:\n",
    "        return number * 2\n",
    "    if (number_string[0:half_string]) == (number_string[half_string:len(number_string)]):\n",
    "        return number\n",
    "    else:\n",
    "        return number * 2\n",
    "\n",
    "print(twice(37) == 74)                  # True\n",
    "print(twice(44) == 44)                  # True\n",
    "print(twice(334433) == 668866)          # True\n",
    "print(twice(444) == 888)                # True\n",
    "print(twice(107) == 214)                # True\n",
    "print(twice(103103) == 103103)          # True\n",
    "print(twice(3333) == 3333)              # True\n",
    "print(twice(7676) == 7676)              # True"
   ]
  },
  {
   "cell_type": "code",
   "execution_count": null,
   "id": "2c4dbf3e-fd00-411a-a4d0-d5b9a11a2121",
   "metadata": {},
   "outputs": [],
   "source": []
  }
 ],
 "metadata": {
  "kernelspec": {
   "display_name": "Python 3 (ipykernel)",
   "language": "python",
   "name": "python3"
  },
  "language_info": {
   "codemirror_mode": {
    "name": "ipython",
    "version": 3
   },
   "file_extension": ".py",
   "mimetype": "text/x-python",
   "name": "python",
   "nbconvert_exporter": "python",
   "pygments_lexer": "ipython3",
   "version": "3.12.6"
  }
 },
 "nbformat": 4,
 "nbformat_minor": 5
}
