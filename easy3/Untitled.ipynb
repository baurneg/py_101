{
 "cells": [
  {
   "cell_type": "code",
   "execution_count": 39,
   "id": "a54a1128-6290-48a3-82bf-9c4193faf6a1",
   "metadata": {},
   "outputs": [
    {
     "name": "stdout",
     "output_type": "stream",
     "text": [
      "True\n",
      "False\n",
      "True\n",
      "True\n",
      "True\n",
      "False\n",
      "False\n"
     ]
    }
   ],
   "source": [
    "def twice(number):\n",
    "    number_string = str(number)\n",
    "    number_string_length = int(len(my_string))\n",
    "    half_string_length = int(number_string_length/2)\n",
    "    \n",
    "    if number_string_length % 2 != 0:\n",
    "        return number * 2\n",
    "    else:\n",
    "        if number_string[0:half_string_length] == (number_string[half_string_length:number_string_length]):\n",
    "            print(number)\n",
    "            return number\n",
    "        else:\n",
    "            return number * 2\n",
    "print(twice(37) == 74)                  # True\n",
    "print(twice(44) == 44)                  # True\n",
    "print(twice(334433) == 668866)          # True\n",
    "print(twice(444) == 888)                # True\n",
    "print(twice(107) == 214)                # True\n",
    "print(twice(3333) == 3333)              # True\n",
    "print(twice(7676) == 7676)              # True\n",
    "# number = 4554\n",
    "# my_string = str(number)\n",
    "# print(my_string)\n",
    "# half = len(my_string)/2\n",
    "# print(half)\n",
    "# print(my_string[0:int(half)])\n",
    "# print(my_string[int(half):len(my_string)])"
   ]
  },
  {
   "cell_type": "code",
   "execution_count": 42,
   "id": "470e59b2-102f-4dde-9e20-ea5f1e490676",
   "metadata": {},
   "outputs": [
    {
     "name": "stdout",
     "output_type": "stream",
     "text": [
      "3\n",
      "True\n",
      "333\n",
      "333\n"
     ]
    }
   ],
   "source": [
    "number = 333333\n",
    "my_string = str(number)\n",
    "half = int(len(my_string)/2)\n",
    "print(half)\n",
    "a = (my_string[0:int(half)])\n",
    "b = (my_string[int(half):len(my_string) + 1])\n",
    "print(a==b)\n",
    "print(a)\n",
    "print(b)"
   ]
  },
  {
   "cell_type": "code",
   "execution_count": null,
   "id": "484a0b09-f82b-4d7a-ac70-13cf58d12d9a",
   "metadata": {},
   "outputs": [],
   "source": []
  },
  {
   "cell_type": "code",
   "execution_count": null,
   "id": "a9438563-52e4-4278-a993-3d6c090088e7",
   "metadata": {},
   "outputs": [],
   "source": []
  }
 ],
 "metadata": {
  "kernelspec": {
   "display_name": "Python 3 (ipykernel)",
   "language": "python",
   "name": "python3"
  },
  "language_info": {
   "codemirror_mode": {
    "name": "ipython",
    "version": 3
   },
   "file_extension": ".py",
   "mimetype": "text/x-python",
   "name": "python",
   "nbconvert_exporter": "python",
   "pygments_lexer": "ipython3",
   "version": "3.12.6"
  }
 },
 "nbformat": 4,
 "nbformat_minor": 5
}
