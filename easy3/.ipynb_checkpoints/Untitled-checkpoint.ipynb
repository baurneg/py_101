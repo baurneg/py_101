{
 "cells": [
  {
   "cell_type": "code",
   "execution_count": 9,
   "id": "a54a1128-6290-48a3-82bf-9c4193faf6a1",
   "metadata": {},
   "outputs": [
    {
     "name": "stdout",
     "output_type": "stream",
     "text": [
      "4554\n",
      "2.0\n",
      "45\n",
      "54\n"
     ]
    }
   ],
   "source": [
    "def twice(number):\n",
    "    my_string = int(str(number))\n",
    "    str_length = len(my_string)\n",
    "    half_string = int(str_length/2)\n",
    "    \n",
    "    if str_length % 2 != 0:\n",
    "        return number * 2\n",
    "    else:\n",
    "        my_string[0:) == (my_string[str_length/2:-1]):\n",
    "            return number\n",
    "print(twice(37) == 74)                  # True\n",
    "print(twice(44) == 44)                  # True\n",
    "print(twice(334433) == 668866)          # True\n",
    "print(twice(444) == 888)                # True\n",
    "print(twice(107) == 214)                # True\n",
    "print(twice(103103) == 103103)          # True\n",
    "print(twice(3333) == 3333)              # True\n",
    "print(twice(7676) == 7676)              # True\n",
    "number = 4554\n",
    "my_string = str(number)\n",
    "print(my_string)\n",
    "half = len(my_string)/2\n",
    "print(half)\n",
    "print(my_string[0:int(half)])\n",
    "print(my_string[int(half):len(my_string)])"
   ]
  },
  {
   "cell_type": "code",
   "execution_count": null,
   "id": "470e59b2-102f-4dde-9e20-ea5f1e490676",
   "metadata": {},
   "outputs": [],
   "source": []
  }
 ],
 "metadata": {
  "kernelspec": {
   "display_name": "Python 3 (ipykernel)",
   "language": "python",
   "name": "python3"
  },
  "language_info": {
   "codemirror_mode": {
    "name": "ipython",
    "version": 3
   },
   "file_extension": ".py",
   "mimetype": "text/x-python",
   "name": "python",
   "nbconvert_exporter": "python",
   "pygments_lexer": "ipython3",
   "version": "3.12.6"
  }
 },
 "nbformat": 4,
 "nbformat_minor": 5
}
